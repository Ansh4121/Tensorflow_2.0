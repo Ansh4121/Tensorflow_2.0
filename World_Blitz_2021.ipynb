{
  "nbformat": 4,
  "nbformat_minor": 0,
  "metadata": {
    "colab": {
      "name": "World_Blitz_2021.ipynb",
      "private_outputs": true,
      "provenance": [],
      "authorship_tag": "ABX9TyNjL6B5VoD20cSJfFjyRYGN",
      "include_colab_link": true
    },
    "kernelspec": {
      "name": "python3",
      "display_name": "Python 3"
    },
    "language_info": {
      "name": "python"
    }
  },
  "cells": [
    {
      "cell_type": "markdown",
      "metadata": {
        "id": "view-in-github",
        "colab_type": "text"
      },
      "source": [
        "<a href=\"https://colab.research.google.com/github/Ansh4121/Tensorflow_2.0/blob/main/World_Blitz_2021.ipynb\" target=\"_parent\"><img src=\"https://colab.research.google.com/assets/colab-badge.svg\" alt=\"Open In Colab\"/></a>"
      ]
    },
    {
      "cell_type": "code",
      "execution_count": null,
      "metadata": {
        "id": "7CZssllnxAAp"
      },
      "outputs": [],
      "source": [
        "import tensorflow as tf\n",
        "import numpy as np\n",
        "import matplotlib.pyplot as plt\n",
        "print(tf.__version__)\n",
        "!pip install pgn2data\n",
        "import pandas as pd\n",
        "from google.colab import drive\n",
        "drive.mount('/content/drive')"
      ]
    },
    {
      "cell_type": "code",
      "source": [
        "from google.colab import files\n",
        "uploaded = files.upload()\n",
        "\n",
        "from converter.pgn_data import PGNData\n",
        "pgn_data = PGNData(\"World_Blitz_2021.pgn\")\n",
        "result = pgn_data.export()\n",
        "result.print_summary()"
      ],
      "metadata": {
        "id": "FV7PJK8BnY93"
      },
      "execution_count": null,
      "outputs": []
    },
    {
      "cell_type": "code",
      "source": [
        "# World_Blitz_2021_game_info.csv\n",
        "# World_Blitz_2021_moves.csv\n",
        "moves = df = pd.read_csv('World_Blitz_2021_moves.csv')\n",
        "print(df.shape)\n",
        "info = df = pd.read_csv('World_Blitz_2021_game_info.csv')\n",
        "print(df.shape)\n",
        "data = df\n",
        "moves.head();\n",
        "print(moves.columns)\n",
        "print(info.columns)\n",
        "moves.plot(\"move_no\", [\"captured_score_for_white\", \"captured_score_for_black\"], subplots=True,);"
      ],
      "metadata": {
        "id": "asQlvRIFsO2Z"
      },
      "execution_count": null,
      "outputs": []
    }
  ]
}